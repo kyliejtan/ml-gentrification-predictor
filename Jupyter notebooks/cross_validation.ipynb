{
 "cells": [
  {
   "cell_type": "markdown",
   "metadata": {},
   "source": [
    "## Importing dependencies and environmental variables"
   ]
  },
  {
   "cell_type": "code",
   "execution_count": 1,
   "metadata": {},
   "outputs": [],
   "source": [
    "# Dependencies\n",
    "import numpy as np\n",
    "import pandas as pd\n",
    "from sklearn.linear_model import LinearRegression\n",
    "from sklearn.linear_model import LogisticRegression\n",
    "from sklearn.metrics import mean_squared_error, r2_score\n",
    "from sklearn.model_selection import train_test_split\n",
    "from sklearn.preprocessing import StandardScaler\n",
    "from sklearn.utils import shuffle"
   ]
  },
  {
   "cell_type": "code",
   "execution_count": 2,
   "metadata": {},
   "outputs": [],
   "source": [
    "pd.set_option('display.max_rows', 500)\n",
    "pd.set_option('display.max_columns', 500)\n",
    "pd.set_option('display.width', 1000)"
   ]
  },
  {
   "cell_type": "markdown",
   "metadata": {},
   "source": [
    "## Reading in csv"
   ]
  },
  {
   "cell_type": "code",
   "execution_count": 3,
   "metadata": {},
   "outputs": [],
   "source": [
    "hist_complete_data = pd.read_csv(\"../Project3/data/complete_data/other_hist_complete_data.csv\")"
   ]
  },
  {
   "cell_type": "markdown",
   "metadata": {},
   "source": [
    "## Shuffling and splitting the dataset"
   ]
  },
  {
   "cell_type": "code",
   "execution_count": 4,
   "metadata": {},
   "outputs": [],
   "source": [
    "hist_complete_data = hist_complete_data[hist_complete_data[\"next_year_housing_price\"] != 0]\n",
    "hist_complete_data_shuffled = shuffle(hist_complete_data)"
   ]
  },
  {
   "cell_type": "code",
   "execution_count": 5,
   "metadata": {},
   "outputs": [
    {
     "data": {
      "text/plain": [
       "910"
      ]
     },
     "execution_count": 5,
     "metadata": {},
     "output_type": "execute_result"
    }
   ],
   "source": [
    "len(hist_complete_data_shuffled)"
   ]
  },
  {
   "cell_type": "code",
   "execution_count": 6,
   "metadata": {},
   "outputs": [],
   "source": [
    "set1 = hist_complete_data_shuffled[0:227]\n",
    "set2 = hist_complete_data_shuffled[228:455]\n",
    "set3 = hist_complete_data_shuffled[456:682]\n",
    "set4 = hist_complete_data_shuffled[683:910]"
   ]
  },
  {
   "cell_type": "code",
   "execution_count": 7,
   "metadata": {},
   "outputs": [
    {
     "data": {
      "text/html": [
       "<div>\n",
       "<style scoped>\n",
       "    .dataframe tbody tr th:only-of-type {\n",
       "        vertical-align: middle;\n",
       "    }\n",
       "\n",
       "    .dataframe tbody tr th {\n",
       "        vertical-align: top;\n",
       "    }\n",
       "\n",
       "    .dataframe thead th {\n",
       "        text-align: right;\n",
       "    }\n",
       "</style>\n",
       "<table border=\"1\" class=\"dataframe\">\n",
       "  <thead>\n",
       "    <tr style=\"text-align: right;\">\n",
       "      <th></th>\n",
       "      <th>year</th>\n",
       "      <th>zip_code</th>\n",
       "      <th>pct_wht</th>\n",
       "      <th>pct_25_34</th>\n",
       "      <th>pct_college_deg</th>\n",
       "      <th>pct_chng_pct_25_34</th>\n",
       "      <th>pct_chng_pct_college_deg</th>\n",
       "      <th>pct_chng_pct_wht</th>\n",
       "      <th>num_coffee_shops</th>\n",
       "      <th>pct_chng_housing_price</th>\n",
       "      <th>current_year_housing_price</th>\n",
       "      <th>next_year_housing_price</th>\n",
       "    </tr>\n",
       "  </thead>\n",
       "  <tbody>\n",
       "    <tr>\n",
       "      <th>729</th>\n",
       "      <td>2016</td>\n",
       "      <td>90049</td>\n",
       "      <td>84.747478</td>\n",
       "      <td>17.360389</td>\n",
       "      <td>59.483994</td>\n",
       "      <td>0.923285</td>\n",
       "      <td>-0.258450</td>\n",
       "      <td>0.329119</td>\n",
       "      <td>3</td>\n",
       "      <td>7.780970</td>\n",
       "      <td>2.384450e+06</td>\n",
       "      <td>2.569983e+06</td>\n",
       "    </tr>\n",
       "    <tr>\n",
       "      <th>205</th>\n",
       "      <td>2012</td>\n",
       "      <td>91344</td>\n",
       "      <td>64.909269</td>\n",
       "      <td>10.670766</td>\n",
       "      <td>23.548497</td>\n",
       "      <td>-0.738709</td>\n",
       "      <td>0.750932</td>\n",
       "      <td>-1.344743</td>\n",
       "      <td>3</td>\n",
       "      <td>15.105856</td>\n",
       "      <td>3.904667e+05</td>\n",
       "      <td>4.494500e+05</td>\n",
       "    </tr>\n",
       "    <tr>\n",
       "      <th>834</th>\n",
       "      <td>2017</td>\n",
       "      <td>90001</td>\n",
       "      <td>32.367462</td>\n",
       "      <td>15.453369</td>\n",
       "      <td>2.449862</td>\n",
       "      <td>-0.599565</td>\n",
       "      <td>0.247111</td>\n",
       "      <td>-9.882490</td>\n",
       "      <td>1</td>\n",
       "      <td>7.623352</td>\n",
       "      <td>3.337333e+05</td>\n",
       "      <td>3.591750e+05</td>\n",
       "    </tr>\n",
       "    <tr>\n",
       "      <th>35</th>\n",
       "      <td>2011</td>\n",
       "      <td>90057</td>\n",
       "      <td>31.765888</td>\n",
       "      <td>20.913988</td>\n",
       "      <td>10.084916</td>\n",
       "      <td>0.000000</td>\n",
       "      <td>0.000000</td>\n",
       "      <td>0.000000</td>\n",
       "      <td>0</td>\n",
       "      <td>2.462424</td>\n",
       "      <td>2.345250e+05</td>\n",
       "      <td>2.403000e+05</td>\n",
       "    </tr>\n",
       "    <tr>\n",
       "      <th>460</th>\n",
       "      <td>2014</td>\n",
       "      <td>90077</td>\n",
       "      <td>87.247839</td>\n",
       "      <td>7.985110</td>\n",
       "      <td>54.238713</td>\n",
       "      <td>30.617980</td>\n",
       "      <td>4.568108</td>\n",
       "      <td>-0.983307</td>\n",
       "      <td>1</td>\n",
       "      <td>5.993923</td>\n",
       "      <td>2.004808e+06</td>\n",
       "      <td>2.124975e+06</td>\n",
       "    </tr>\n",
       "  </tbody>\n",
       "</table>\n",
       "</div>"
      ],
      "text/plain": [
       "     year  zip_code    pct_wht  pct_25_34  pct_college_deg  pct_chng_pct_25_34  pct_chng_pct_college_deg  pct_chng_pct_wht  num_coffee_shops  pct_chng_housing_price  current_year_housing_price  next_year_housing_price\n",
       "729  2016     90049  84.747478  17.360389        59.483994            0.923285                 -0.258450          0.329119                 3                7.780970                2.384450e+06             2.569983e+06\n",
       "205  2012     91344  64.909269  10.670766        23.548497           -0.738709                  0.750932         -1.344743                 3               15.105856                3.904667e+05             4.494500e+05\n",
       "834  2017     90001  32.367462  15.453369         2.449862           -0.599565                  0.247111         -9.882490                 1                7.623352                3.337333e+05             3.591750e+05\n",
       "35   2011     90057  31.765888  20.913988        10.084916            0.000000                  0.000000          0.000000                 0                2.462424                2.345250e+05             2.403000e+05\n",
       "460  2014     90077  87.247839   7.985110        54.238713           30.617980                  4.568108         -0.983307                 1                5.993923                2.004808e+06             2.124975e+06"
      ]
     },
     "execution_count": 7,
     "metadata": {},
     "output_type": "execute_result"
    }
   ],
   "source": [
    "set1.head()"
   ]
  },
  {
   "cell_type": "code",
   "execution_count": 8,
   "metadata": {},
   "outputs": [
    {
     "data": {
      "text/html": [
       "<div>\n",
       "<style scoped>\n",
       "    .dataframe tbody tr th:only-of-type {\n",
       "        vertical-align: middle;\n",
       "    }\n",
       "\n",
       "    .dataframe tbody tr th {\n",
       "        vertical-align: top;\n",
       "    }\n",
       "\n",
       "    .dataframe thead th {\n",
       "        text-align: right;\n",
       "    }\n",
       "</style>\n",
       "<table border=\"1\" class=\"dataframe\">\n",
       "  <thead>\n",
       "    <tr style=\"text-align: right;\">\n",
       "      <th></th>\n",
       "      <th>year</th>\n",
       "      <th>zip_code</th>\n",
       "      <th>pct_wht</th>\n",
       "      <th>pct_25_34</th>\n",
       "      <th>pct_college_deg</th>\n",
       "      <th>pct_chng_pct_25_34</th>\n",
       "      <th>pct_chng_pct_college_deg</th>\n",
       "      <th>pct_chng_pct_wht</th>\n",
       "      <th>num_coffee_shops</th>\n",
       "      <th>pct_chng_housing_price</th>\n",
       "      <th>current_year_housing_price</th>\n",
       "      <th>next_year_housing_price</th>\n",
       "    </tr>\n",
       "  </thead>\n",
       "  <tbody>\n",
       "    <tr>\n",
       "      <th>779</th>\n",
       "      <td>2016</td>\n",
       "      <td>91607</td>\n",
       "      <td>78.388792</td>\n",
       "      <td>20.165579</td>\n",
       "      <td>33.800350</td>\n",
       "      <td>5.380399</td>\n",
       "      <td>-0.232534</td>\n",
       "      <td>1.489146</td>\n",
       "      <td>2</td>\n",
       "      <td>10.492689</td>\n",
       "      <td>749966.666667</td>\n",
       "      <td>8.286583e+05</td>\n",
       "    </tr>\n",
       "    <tr>\n",
       "      <th>490</th>\n",
       "      <td>2014</td>\n",
       "      <td>91402</td>\n",
       "      <td>47.155310</td>\n",
       "      <td>17.347876</td>\n",
       "      <td>9.762507</td>\n",
       "      <td>-0.495045</td>\n",
       "      <td>5.118627</td>\n",
       "      <td>12.121886</td>\n",
       "      <td>1</td>\n",
       "      <td>6.938776</td>\n",
       "      <td>345041.666667</td>\n",
       "      <td>3.689833e+05</td>\n",
       "    </tr>\n",
       "    <tr>\n",
       "      <th>641</th>\n",
       "      <td>2015</td>\n",
       "      <td>94102</td>\n",
       "      <td>44.084906</td>\n",
       "      <td>22.495333</td>\n",
       "      <td>32.596972</td>\n",
       "      <td>5.785087</td>\n",
       "      <td>1.414812</td>\n",
       "      <td>2.638836</td>\n",
       "      <td>13</td>\n",
       "      <td>0.585748</td>\n",
       "      <td>843650.000000</td>\n",
       "      <td>8.485917e+05</td>\n",
       "    </tr>\n",
       "    <tr>\n",
       "      <th>163</th>\n",
       "      <td>2012</td>\n",
       "      <td>90035</td>\n",
       "      <td>70.124047</td>\n",
       "      <td>19.893300</td>\n",
       "      <td>44.093870</td>\n",
       "      <td>2.523216</td>\n",
       "      <td>0.242451</td>\n",
       "      <td>-5.063180</td>\n",
       "      <td>1</td>\n",
       "      <td>15.631005</td>\n",
       "      <td>758908.333333</td>\n",
       "      <td>8.775333e+05</td>\n",
       "    </tr>\n",
       "    <tr>\n",
       "      <th>418</th>\n",
       "      <td>2014</td>\n",
       "      <td>90004</td>\n",
       "      <td>34.542937</td>\n",
       "      <td>16.872551</td>\n",
       "      <td>23.321321</td>\n",
       "      <td>-1.760710</td>\n",
       "      <td>1.171364</td>\n",
       "      <td>2.429233</td>\n",
       "      <td>2</td>\n",
       "      <td>12.743460</td>\n",
       "      <td>892941.666667</td>\n",
       "      <td>1.006733e+06</td>\n",
       "    </tr>\n",
       "  </tbody>\n",
       "</table>\n",
       "</div>"
      ],
      "text/plain": [
       "     year  zip_code    pct_wht  pct_25_34  pct_college_deg  pct_chng_pct_25_34  pct_chng_pct_college_deg  pct_chng_pct_wht  num_coffee_shops  pct_chng_housing_price  current_year_housing_price  next_year_housing_price\n",
       "779  2016     91607  78.388792  20.165579        33.800350            5.380399                 -0.232534          1.489146                 2               10.492689               749966.666667             8.286583e+05\n",
       "490  2014     91402  47.155310  17.347876         9.762507           -0.495045                  5.118627         12.121886                 1                6.938776               345041.666667             3.689833e+05\n",
       "641  2015     94102  44.084906  22.495333        32.596972            5.785087                  1.414812          2.638836                13                0.585748               843650.000000             8.485917e+05\n",
       "163  2012     90035  70.124047  19.893300        44.093870            2.523216                  0.242451         -5.063180                 1               15.631005               758908.333333             8.775333e+05\n",
       "418  2014     90004  34.542937  16.872551        23.321321           -1.760710                  1.171364          2.429233                 2               12.743460               892941.666667             1.006733e+06"
      ]
     },
     "execution_count": 8,
     "metadata": {},
     "output_type": "execute_result"
    }
   ],
   "source": [
    "set2.head()"
   ]
  },
  {
   "cell_type": "code",
   "execution_count": 9,
   "metadata": {},
   "outputs": [
    {
     "data": {
      "text/html": [
       "<div>\n",
       "<style scoped>\n",
       "    .dataframe tbody tr th:only-of-type {\n",
       "        vertical-align: middle;\n",
       "    }\n",
       "\n",
       "    .dataframe tbody tr th {\n",
       "        vertical-align: top;\n",
       "    }\n",
       "\n",
       "    .dataframe thead th {\n",
       "        text-align: right;\n",
       "    }\n",
       "</style>\n",
       "<table border=\"1\" class=\"dataframe\">\n",
       "  <thead>\n",
       "    <tr style=\"text-align: right;\">\n",
       "      <th></th>\n",
       "      <th>year</th>\n",
       "      <th>zip_code</th>\n",
       "      <th>pct_wht</th>\n",
       "      <th>pct_25_34</th>\n",
       "      <th>pct_college_deg</th>\n",
       "      <th>pct_chng_pct_25_34</th>\n",
       "      <th>pct_chng_pct_college_deg</th>\n",
       "      <th>pct_chng_pct_wht</th>\n",
       "      <th>num_coffee_shops</th>\n",
       "      <th>pct_chng_housing_price</th>\n",
       "      <th>current_year_housing_price</th>\n",
       "      <th>next_year_housing_price</th>\n",
       "    </tr>\n",
       "  </thead>\n",
       "  <tbody>\n",
       "    <tr>\n",
       "      <th>573</th>\n",
       "      <td>2015</td>\n",
       "      <td>90026</td>\n",
       "      <td>61.777583</td>\n",
       "      <td>22.187682</td>\n",
       "      <td>25.691769</td>\n",
       "      <td>3.134950</td>\n",
       "      <td>3.642117</td>\n",
       "      <td>-5.541319</td>\n",
       "      <td>2</td>\n",
       "      <td>7.587794</td>\n",
       "      <td>728033.333333</td>\n",
       "      <td>7.832750e+05</td>\n",
       "    </tr>\n",
       "    <tr>\n",
       "      <th>354</th>\n",
       "      <td>2013</td>\n",
       "      <td>91406</td>\n",
       "      <td>50.677651</td>\n",
       "      <td>16.468623</td>\n",
       "      <td>14.636878</td>\n",
       "      <td>-0.809265</td>\n",
       "      <td>5.758559</td>\n",
       "      <td>2.871391</td>\n",
       "      <td>3</td>\n",
       "      <td>11.408406</td>\n",
       "      <td>389625.000000</td>\n",
       "      <td>4.340750e+05</td>\n",
       "    </tr>\n",
       "    <tr>\n",
       "      <th>781</th>\n",
       "      <td>2016</td>\n",
       "      <td>94103</td>\n",
       "      <td>45.632501</td>\n",
       "      <td>22.200645</td>\n",
       "      <td>39.958053</td>\n",
       "      <td>8.346812</td>\n",
       "      <td>5.397170</td>\n",
       "      <td>1.937187</td>\n",
       "      <td>24</td>\n",
       "      <td>1.047389</td>\n",
       "      <td>957141.666667</td>\n",
       "      <td>9.671667e+05</td>\n",
       "    </tr>\n",
       "    <tr>\n",
       "      <th>366</th>\n",
       "      <td>2013</td>\n",
       "      <td>94105</td>\n",
       "      <td>55.285431</td>\n",
       "      <td>39.132001</td>\n",
       "      <td>77.741761</td>\n",
       "      <td>-8.799643</td>\n",
       "      <td>-1.882704</td>\n",
       "      <td>3.439344</td>\n",
       "      <td>19</td>\n",
       "      <td>16.002085</td>\n",
       "      <td>879208.333333</td>\n",
       "      <td>1.019900e+06</td>\n",
       "    </tr>\n",
       "    <tr>\n",
       "      <th>548</th>\n",
       "      <td>2014</td>\n",
       "      <td>98122</td>\n",
       "      <td>64.629706</td>\n",
       "      <td>27.474012</td>\n",
       "      <td>43.519117</td>\n",
       "      <td>-0.166061</td>\n",
       "      <td>1.354629</td>\n",
       "      <td>-2.462262</td>\n",
       "      <td>8</td>\n",
       "      <td>15.509759</td>\n",
       "      <td>466641.666667</td>\n",
       "      <td>5.390167e+05</td>\n",
       "    </tr>\n",
       "  </tbody>\n",
       "</table>\n",
       "</div>"
      ],
      "text/plain": [
       "     year  zip_code    pct_wht  pct_25_34  pct_college_deg  pct_chng_pct_25_34  pct_chng_pct_college_deg  pct_chng_pct_wht  num_coffee_shops  pct_chng_housing_price  current_year_housing_price  next_year_housing_price\n",
       "573  2015     90026  61.777583  22.187682        25.691769            3.134950                  3.642117         -5.541319                 2                7.587794               728033.333333             7.832750e+05\n",
       "354  2013     91406  50.677651  16.468623        14.636878           -0.809265                  5.758559          2.871391                 3               11.408406               389625.000000             4.340750e+05\n",
       "781  2016     94103  45.632501  22.200645        39.958053            8.346812                  5.397170          1.937187                24                1.047389               957141.666667             9.671667e+05\n",
       "366  2013     94105  55.285431  39.132001        77.741761           -8.799643                 -1.882704          3.439344                19               16.002085               879208.333333             1.019900e+06\n",
       "548  2014     98122  64.629706  27.474012        43.519117           -0.166061                  1.354629         -2.462262                 8               15.509759               466641.666667             5.390167e+05"
      ]
     },
     "execution_count": 9,
     "metadata": {},
     "output_type": "execute_result"
    }
   ],
   "source": [
    "set3.head()"
   ]
  },
  {
   "cell_type": "code",
   "execution_count": 10,
   "metadata": {},
   "outputs": [
    {
     "data": {
      "text/html": [
       "<div>\n",
       "<style scoped>\n",
       "    .dataframe tbody tr th:only-of-type {\n",
       "        vertical-align: middle;\n",
       "    }\n",
       "\n",
       "    .dataframe tbody tr th {\n",
       "        vertical-align: top;\n",
       "    }\n",
       "\n",
       "    .dataframe thead th {\n",
       "        text-align: right;\n",
       "    }\n",
       "</style>\n",
       "<table border=\"1\" class=\"dataframe\">\n",
       "  <thead>\n",
       "    <tr style=\"text-align: right;\">\n",
       "      <th></th>\n",
       "      <th>year</th>\n",
       "      <th>zip_code</th>\n",
       "      <th>pct_wht</th>\n",
       "      <th>pct_25_34</th>\n",
       "      <th>pct_college_deg</th>\n",
       "      <th>pct_chng_pct_25_34</th>\n",
       "      <th>pct_chng_pct_college_deg</th>\n",
       "      <th>pct_chng_pct_wht</th>\n",
       "      <th>num_coffee_shops</th>\n",
       "      <th>pct_chng_housing_price</th>\n",
       "      <th>current_year_housing_price</th>\n",
       "      <th>next_year_housing_price</th>\n",
       "    </tr>\n",
       "  </thead>\n",
       "  <tbody>\n",
       "    <tr>\n",
       "      <th>574</th>\n",
       "      <td>2015</td>\n",
       "      <td>90027</td>\n",
       "      <td>67.062556</td>\n",
       "      <td>24.420100</td>\n",
       "      <td>41.379754</td>\n",
       "      <td>2.717521</td>\n",
       "      <td>5.372534</td>\n",
       "      <td>0.884267</td>\n",
       "      <td>2</td>\n",
       "      <td>13.670993</td>\n",
       "      <td>1.166033e+06</td>\n",
       "      <td>1.325442e+06</td>\n",
       "    </tr>\n",
       "    <tr>\n",
       "      <th>283</th>\n",
       "      <td>2013</td>\n",
       "      <td>90013</td>\n",
       "      <td>32.595554</td>\n",
       "      <td>18.545242</td>\n",
       "      <td>28.461388</td>\n",
       "      <td>18.602995</td>\n",
       "      <td>6.208738</td>\n",
       "      <td>-4.698660</td>\n",
       "      <td>1</td>\n",
       "      <td>0.000000</td>\n",
       "      <td>0.000000e+00</td>\n",
       "      <td>4.443500e+05</td>\n",
       "    </tr>\n",
       "    <tr>\n",
       "      <th>180</th>\n",
       "      <td>2012</td>\n",
       "      <td>90069</td>\n",
       "      <td>83.771153</td>\n",
       "      <td>21.374459</td>\n",
       "      <td>54.973436</td>\n",
       "      <td>8.289597</td>\n",
       "      <td>-0.432975</td>\n",
       "      <td>-2.318817</td>\n",
       "      <td>0</td>\n",
       "      <td>17.085546</td>\n",
       "      <td>5.633417e+05</td>\n",
       "      <td>6.595917e+05</td>\n",
       "    </tr>\n",
       "    <tr>\n",
       "      <th>417</th>\n",
       "      <td>2014</td>\n",
       "      <td>90001</td>\n",
       "      <td>49.893455</td>\n",
       "      <td>16.367156</td>\n",
       "      <td>2.145115</td>\n",
       "      <td>-2.970073</td>\n",
       "      <td>10.297175</td>\n",
       "      <td>-16.920101</td>\n",
       "      <td>1</td>\n",
       "      <td>9.232484</td>\n",
       "      <td>2.391917e+05</td>\n",
       "      <td>2.612750e+05</td>\n",
       "    </tr>\n",
       "    <tr>\n",
       "      <th>491</th>\n",
       "      <td>2014</td>\n",
       "      <td>91403</td>\n",
       "      <td>81.242557</td>\n",
       "      <td>15.587402</td>\n",
       "      <td>46.363898</td>\n",
       "      <td>-6.325215</td>\n",
       "      <td>-0.505286</td>\n",
       "      <td>0.416344</td>\n",
       "      <td>3</td>\n",
       "      <td>7.442494</td>\n",
       "      <td>8.013667e+05</td>\n",
       "      <td>8.610083e+05</td>\n",
       "    </tr>\n",
       "  </tbody>\n",
       "</table>\n",
       "</div>"
      ],
      "text/plain": [
       "     year  zip_code    pct_wht  pct_25_34  pct_college_deg  pct_chng_pct_25_34  pct_chng_pct_college_deg  pct_chng_pct_wht  num_coffee_shops  pct_chng_housing_price  current_year_housing_price  next_year_housing_price\n",
       "574  2015     90027  67.062556  24.420100        41.379754            2.717521                  5.372534          0.884267                 2               13.670993                1.166033e+06             1.325442e+06\n",
       "283  2013     90013  32.595554  18.545242        28.461388           18.602995                  6.208738         -4.698660                 1                0.000000                0.000000e+00             4.443500e+05\n",
       "180  2012     90069  83.771153  21.374459        54.973436            8.289597                 -0.432975         -2.318817                 0               17.085546                5.633417e+05             6.595917e+05\n",
       "417  2014     90001  49.893455  16.367156         2.145115           -2.970073                 10.297175        -16.920101                 1                9.232484                2.391917e+05             2.612750e+05\n",
       "491  2014     91403  81.242557  15.587402        46.363898           -6.325215                 -0.505286          0.416344                 3                7.442494                8.013667e+05             8.610083e+05"
      ]
     },
     "execution_count": 10,
     "metadata": {},
     "output_type": "execute_result"
    }
   ],
   "source": [
    "set4.head()"
   ]
  },
  {
   "cell_type": "markdown",
   "metadata": {},
   "source": [
    "## Initialzing X and y variables for each set"
   ]
  },
  {
   "cell_type": "code",
   "execution_count": 11,
   "metadata": {},
   "outputs": [
    {
     "name": "stdout",
     "output_type": "stream",
     "text": [
      "Shape:  (227, 5) (227, 1)\n"
     ]
    }
   ],
   "source": [
    "set1_X = set1[['pct_25_34', 'pct_college_deg', 'pct_wht', 'current_year_housing_price', 'num_coffee_shops']]\n",
    "set1_y = set1['next_year_housing_price'].values.reshape(-1, 1)\n",
    "\n",
    "print(\"Shape: \", set1_X.shape, set1_y.shape)"
   ]
  },
  {
   "cell_type": "code",
   "execution_count": 12,
   "metadata": {},
   "outputs": [],
   "source": [
    "set2_X = set2[['pct_25_34', 'pct_college_deg', 'pct_wht', 'current_year_housing_price', 'num_coffee_shops']]\n",
    "set3_X = set3[['pct_25_34', 'pct_college_deg', 'pct_wht', 'current_year_housing_price', 'num_coffee_shops']]\n",
    "set4_X = set4[['pct_25_34', 'pct_college_deg', 'pct_wht', 'current_year_housing_price', 'num_coffee_shops']]"
   ]
  },
  {
   "cell_type": "code",
   "execution_count": 13,
   "metadata": {},
   "outputs": [],
   "source": [
    "set2_y = set2['next_year_housing_price'].values.reshape(-1, 1)\n",
    "set3_y = set3['next_year_housing_price'].values.reshape(-1, 1)\n",
    "set4_y = set4['next_year_housing_price'].values.reshape(-1, 1)"
   ]
  },
  {
   "cell_type": "markdown",
   "metadata": {},
   "source": [
    "## Initializing a linear regression model and fitting it to set1"
   ]
  },
  {
   "cell_type": "code",
   "execution_count": 14,
   "metadata": {},
   "outputs": [],
   "source": [
    "non_scaled_model = LinearRegression()"
   ]
  },
  {
   "cell_type": "code",
   "execution_count": 15,
   "metadata": {},
   "outputs": [
    {
     "data": {
      "text/plain": [
       "LinearRegression(copy_X=True, fit_intercept=True, n_jobs=None, normalize=False)"
      ]
     },
     "execution_count": 15,
     "metadata": {},
     "output_type": "execute_result"
    }
   ],
   "source": [
    "non_scaled_model"
   ]
  },
  {
   "cell_type": "code",
   "execution_count": 16,
   "metadata": {},
   "outputs": [
    {
     "data": {
      "text/plain": [
       "LinearRegression(copy_X=True, fit_intercept=True, n_jobs=None, normalize=False)"
      ]
     },
     "execution_count": 16,
     "metadata": {},
     "output_type": "execute_result"
    }
   ],
   "source": [
    "non_scaled_model.fit(set1_X, set1_y)"
   ]
  },
  {
   "cell_type": "markdown",
   "metadata": {},
   "source": [
    "## Scoring the model's ability to predict the values of the other sets"
   ]
  },
  {
   "cell_type": "code",
   "execution_count": 17,
   "metadata": {},
   "outputs": [
    {
     "name": "stdout",
     "output_type": "stream",
     "text": [
      "Set2 Score: 0.9612279245383888\n",
      "Set3 Score: 0.9877715388539107\n",
      "Set4 Score: 0.987039503437102\n"
     ]
    }
   ],
   "source": [
    "set2_score = non_scaled_model.score(set2_X, set2_y)\n",
    "set3_score = non_scaled_model.score(set3_X, set3_y)\n",
    "set4_score = non_scaled_model.score(set4_X, set4_y)\n",
    "\n",
    "print(f\"Set2 Score: {set2_score}\")\n",
    "print(f\"Set3 Score: {set3_score}\")\n",
    "print(f\"Set4 Score: {set4_score}\")"
   ]
  },
  {
   "cell_type": "code",
   "execution_count": null,
   "metadata": {},
   "outputs": [],
   "source": []
  }
 ],
 "metadata": {
  "kernelspec": {
   "display_name": "Python 3",
   "language": "python",
   "name": "python3"
  },
  "language_info": {
   "codemirror_mode": {
    "name": "ipython",
    "version": 3
   },
   "file_extension": ".py",
   "mimetype": "text/x-python",
   "name": "python",
   "nbconvert_exporter": "python",
   "pygments_lexer": "ipython3",
   "version": "3.7.3"
  }
 },
 "nbformat": 4,
 "nbformat_minor": 2
}
