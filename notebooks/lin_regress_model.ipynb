{
 "cells": [
  {
   "cell_type": "markdown",
   "metadata": {},
   "source": [
    "## Importing dependencies and environmental variables"
   ]
  },
  {
   "cell_type": "code",
   "execution_count": 21,
   "metadata": {},
   "outputs": [],
   "source": [
    "# Dependencies\n",
    "import csv as csv\n",
    "import http.client \n",
    "import json\n",
    "import numpy as np\n",
    "import matplotlib.pyplot as plt\n",
    "import os\n",
    "import pandas as pd\n",
    "import pprint\n",
    "import psycopg2\n",
    "import requests\n",
    "import sqlalchemy\n",
    "from bs4 import BeautifulSoup as bs\n",
    "from dotenv import load_dotenv\n",
    "from functools import reduce\n",
    "from selenium import webdriver\n",
    "from sklearn.linear_model import LinearRegression\n",
    "from sklearn.metrics import mean_squared_error, r2_score\n",
    "from sklearn.model_selection import train_test_split\n",
    "from sodapy import Socrata\n",
    "from splinter import Browser\n",
    "from sqlalchemy.ext.automap import automap_base\n",
    "from sqlalchemy.ext.declarative import declarative_base\n",
    "from sqlalchemy.orm import Session\n",
    "from sqlalchemy import create_engine\n",
    "from sqlalchemy import Column, Integer, Float, Date"
   ]
  },
  {
   "cell_type": "code",
   "execution_count": 2,
   "metadata": {},
   "outputs": [],
   "source": [
    "# Loading homeowrk7.env so that the environment variables can be used in the engine object url\n",
    "load_dotenv(\"project3.env\")\n",
    "# Initializing variables to hold each environmet varaible\n",
    "username=os.environ.get(\"USERNAME\")\n",
    "password=os.environ.get(\"PASSWORD\")\n",
    "host=os.environ.get(\"HOST\")\n",
    "port=os.environ.get(\"PORT\")\n",
    "database=os.environ.get(\"DATABASE\")\n",
    "google_key = os.environ.get('GOOGLE_API_KEY')\n",
    "yelp_client_id = os.environ.get('YELP_CLIENT_ID')\n",
    "yelp_key = os.environ.get('YELP_API_KEY')\n",
    "sf_data_key = os.environ.get('SFDATAAPPTOKEN')\n",
    "acs_5yr_key = os.environ.get('ACS_5YR_KEY')"
   ]
  },
  {
   "cell_type": "code",
   "execution_count": 3,
   "metadata": {},
   "outputs": [],
   "source": [
    "pd.set_option('display.max_rows', 500)\n",
    "pd.set_option('display.max_columns', 500)\n",
    "pd.set_option('display.width', 1000)"
   ]
  },
  {
   "cell_type": "markdown",
   "metadata": {},
   "source": [
    "## Reading in csv"
   ]
  },
  {
   "cell_type": "code",
   "execution_count": 63,
   "metadata": {},
   "outputs": [],
   "source": [
    "hist_complete_data = pd.read_csv(\"data/complete_data/hist_complete_data.csv\")\n",
    "complete_data = pd.read_csv(\"data/complete_data/complete_data.csv\")"
   ]
  },
  {
   "cell_type": "code",
   "execution_count": 64,
   "metadata": {},
   "outputs": [
    {
     "data": {
      "text/html": [
       "<div>\n",
       "<style scoped>\n",
       "    .dataframe tbody tr th:only-of-type {\n",
       "        vertical-align: middle;\n",
       "    }\n",
       "\n",
       "    .dataframe tbody tr th {\n",
       "        vertical-align: top;\n",
       "    }\n",
       "\n",
       "    .dataframe thead th {\n",
       "        text-align: right;\n",
       "    }\n",
       "</style>\n",
       "<table border=\"1\" class=\"dataframe\">\n",
       "  <thead>\n",
       "    <tr style=\"text-align: right;\">\n",
       "      <th></th>\n",
       "      <th>year</th>\n",
       "      <th>zip_code</th>\n",
       "      <th>pct_wht</th>\n",
       "      <th>pct_25_34</th>\n",
       "      <th>pct_college_deg</th>\n",
       "      <th>num_coffee_shops</th>\n",
       "      <th>next_years_price</th>\n",
       "    </tr>\n",
       "  </thead>\n",
       "  <tbody>\n",
       "    <tr>\n",
       "      <th>86</th>\n",
       "      <td>2011</td>\n",
       "      <td>94103</td>\n",
       "      <td>47.326741</td>\n",
       "      <td>20.906639</td>\n",
       "      <td>31.265785</td>\n",
       "      <td>18</td>\n",
       "      <td>6.343583e+05</td>\n",
       "    </tr>\n",
       "    <tr>\n",
       "      <th>225</th>\n",
       "      <td>2012</td>\n",
       "      <td>94103</td>\n",
       "      <td>47.082689</td>\n",
       "      <td>20.954452</td>\n",
       "      <td>34.146137</td>\n",
       "      <td>18</td>\n",
       "      <td>7.264917e+05</td>\n",
       "    </tr>\n",
       "    <tr>\n",
       "      <th>364</th>\n",
       "      <td>2013</td>\n",
       "      <td>94103</td>\n",
       "      <td>46.003263</td>\n",
       "      <td>19.705526</td>\n",
       "      <td>33.262224</td>\n",
       "      <td>17</td>\n",
       "      <td>8.276417e+05</td>\n",
       "    </tr>\n",
       "    <tr>\n",
       "      <th>503</th>\n",
       "      <td>2014</td>\n",
       "      <td>94103</td>\n",
       "      <td>45.267131</td>\n",
       "      <td>19.279907</td>\n",
       "      <td>35.697694</td>\n",
       "      <td>20</td>\n",
       "      <td>9.436083e+05</td>\n",
       "    </tr>\n",
       "    <tr>\n",
       "      <th>642</th>\n",
       "      <td>2015</td>\n",
       "      <td>94103</td>\n",
       "      <td>44.765313</td>\n",
       "      <td>20.490353</td>\n",
       "      <td>37.911884</td>\n",
       "      <td>22</td>\n",
       "      <td>9.571417e+05</td>\n",
       "    </tr>\n",
       "    <tr>\n",
       "      <th>781</th>\n",
       "      <td>2016</td>\n",
       "      <td>94103</td>\n",
       "      <td>45.632501</td>\n",
       "      <td>22.200645</td>\n",
       "      <td>39.958053</td>\n",
       "      <td>24</td>\n",
       "      <td>9.671667e+05</td>\n",
       "    </tr>\n",
       "    <tr>\n",
       "      <th>920</th>\n",
       "      <td>2017</td>\n",
       "      <td>94103</td>\n",
       "      <td>41.730270</td>\n",
       "      <td>23.660615</td>\n",
       "      <td>40.681734</td>\n",
       "      <td>24</td>\n",
       "      <td>1.003433e+06</td>\n",
       "    </tr>\n",
       "  </tbody>\n",
       "</table>\n",
       "</div>"
      ],
      "text/plain": [
       "     year  zip_code    pct_wht  pct_25_34  pct_college_deg  num_coffee_shops  next_years_price\n",
       "86   2011     94103  47.326741  20.906639        31.265785                18      6.343583e+05\n",
       "225  2012     94103  47.082689  20.954452        34.146137                18      7.264917e+05\n",
       "364  2013     94103  46.003263  19.705526        33.262224                17      8.276417e+05\n",
       "503  2014     94103  45.267131  19.279907        35.697694                20      9.436083e+05\n",
       "642  2015     94103  44.765313  20.490353        37.911884                22      9.571417e+05\n",
       "781  2016     94103  45.632501  22.200645        39.958053                24      9.671667e+05\n",
       "920  2017     94103  41.730270  23.660615        40.681734                24      1.003433e+06"
      ]
     },
     "execution_count": 64,
     "metadata": {},
     "output_type": "execute_result"
    }
   ],
   "source": [
    "hist_complete_data[hist_complete_data[\"zip_code\"] == 94103]"
   ]
  },
  {
   "cell_type": "code",
   "execution_count": 65,
   "metadata": {},
   "outputs": [
    {
     "data": {
      "text/html": [
       "<div>\n",
       "<style scoped>\n",
       "    .dataframe tbody tr th:only-of-type {\n",
       "        vertical-align: middle;\n",
       "    }\n",
       "\n",
       "    .dataframe tbody tr th {\n",
       "        vertical-align: top;\n",
       "    }\n",
       "\n",
       "    .dataframe thead th {\n",
       "        text-align: right;\n",
       "    }\n",
       "</style>\n",
       "<table border=\"1\" class=\"dataframe\">\n",
       "  <thead>\n",
       "    <tr style=\"text-align: right;\">\n",
       "      <th></th>\n",
       "      <th>year</th>\n",
       "      <th>zip_code</th>\n",
       "      <th>pct_wht</th>\n",
       "      <th>pct_25_34</th>\n",
       "      <th>pct_college_deg</th>\n",
       "      <th>num_coffee_shops</th>\n",
       "      <th>next_years_price</th>\n",
       "    </tr>\n",
       "  </thead>\n",
       "  <tbody>\n",
       "    <tr>\n",
       "      <th>86</th>\n",
       "      <td>2011</td>\n",
       "      <td>94103</td>\n",
       "      <td>47.326741</td>\n",
       "      <td>20.906639</td>\n",
       "      <td>31.265785</td>\n",
       "      <td>0</td>\n",
       "      <td>6.343583e+05</td>\n",
       "    </tr>\n",
       "    <tr>\n",
       "      <th>225</th>\n",
       "      <td>2012</td>\n",
       "      <td>94103</td>\n",
       "      <td>47.082689</td>\n",
       "      <td>20.954452</td>\n",
       "      <td>34.146137</td>\n",
       "      <td>0</td>\n",
       "      <td>7.264917e+05</td>\n",
       "    </tr>\n",
       "    <tr>\n",
       "      <th>364</th>\n",
       "      <td>2013</td>\n",
       "      <td>94103</td>\n",
       "      <td>46.003263</td>\n",
       "      <td>19.705526</td>\n",
       "      <td>33.262224</td>\n",
       "      <td>-1</td>\n",
       "      <td>8.276417e+05</td>\n",
       "    </tr>\n",
       "    <tr>\n",
       "      <th>503</th>\n",
       "      <td>2014</td>\n",
       "      <td>94103</td>\n",
       "      <td>45.267131</td>\n",
       "      <td>19.279907</td>\n",
       "      <td>35.697694</td>\n",
       "      <td>2</td>\n",
       "      <td>9.436083e+05</td>\n",
       "    </tr>\n",
       "    <tr>\n",
       "      <th>642</th>\n",
       "      <td>2015</td>\n",
       "      <td>94103</td>\n",
       "      <td>44.765313</td>\n",
       "      <td>20.490353</td>\n",
       "      <td>37.911884</td>\n",
       "      <td>4</td>\n",
       "      <td>9.571417e+05</td>\n",
       "    </tr>\n",
       "    <tr>\n",
       "      <th>781</th>\n",
       "      <td>2016</td>\n",
       "      <td>94103</td>\n",
       "      <td>45.632501</td>\n",
       "      <td>22.200645</td>\n",
       "      <td>39.958053</td>\n",
       "      <td>6</td>\n",
       "      <td>9.671667e+05</td>\n",
       "    </tr>\n",
       "    <tr>\n",
       "      <th>920</th>\n",
       "      <td>2017</td>\n",
       "      <td>94103</td>\n",
       "      <td>41.730270</td>\n",
       "      <td>23.660615</td>\n",
       "      <td>40.681734</td>\n",
       "      <td>6</td>\n",
       "      <td>1.003433e+06</td>\n",
       "    </tr>\n",
       "  </tbody>\n",
       "</table>\n",
       "</div>"
      ],
      "text/plain": [
       "     year  zip_code    pct_wht  pct_25_34  pct_college_deg  num_coffee_shops  next_years_price\n",
       "86   2011     94103  47.326741  20.906639        31.265785                 0      6.343583e+05\n",
       "225  2012     94103  47.082689  20.954452        34.146137                 0      7.264917e+05\n",
       "364  2013     94103  46.003263  19.705526        33.262224                -1      8.276417e+05\n",
       "503  2014     94103  45.267131  19.279907        35.697694                 2      9.436083e+05\n",
       "642  2015     94103  44.765313  20.490353        37.911884                 4      9.571417e+05\n",
       "781  2016     94103  45.632501  22.200645        39.958053                 6      9.671667e+05\n",
       "920  2017     94103  41.730270  23.660615        40.681734                 6      1.003433e+06"
      ]
     },
     "execution_count": 65,
     "metadata": {},
     "output_type": "execute_result"
    }
   ],
   "source": [
    "complete_data[complete_data[\"zip_code\"] == 94103]"
   ]
  },
  {
   "cell_type": "markdown",
   "metadata": {},
   "source": [
    "## Initialzing X and y variables for the historic coffee data model"
   ]
  },
  {
   "cell_type": "code",
   "execution_count": 66,
   "metadata": {},
   "outputs": [],
   "source": [
    "hist_complete_data = hist_complete_data[complete_data[\"next_years_price\"] != 0]"
   ]
  },
  {
   "cell_type": "code",
   "execution_count": 67,
   "metadata": {},
   "outputs": [
    {
     "name": "stdout",
     "output_type": "stream",
     "text": [
      "Shape:  (910, 4) (910, 1)\n"
     ]
    }
   ],
   "source": [
    "X = hist_complete_data[[\"pct_wht\", \"pct_25_34\", \"pct_college_deg\", \"num_coffee_shops\"]]\n",
    "y = hist_complete_data[\"next_years_price\"].values.reshape(-1, 1)\n",
    "\n",
    "print(\"Shape: \", X.shape, y.shape)"
   ]
  },
  {
   "cell_type": "code",
   "execution_count": 68,
   "metadata": {},
   "outputs": [],
   "source": [
    "X_train, X_test, y_train, y_test = train_test_split(X, y, random_state=42)"
   ]
  },
  {
   "cell_type": "code",
   "execution_count": 69,
   "metadata": {},
   "outputs": [],
   "source": [
    "model = LinearRegression()"
   ]
  },
  {
   "cell_type": "code",
   "execution_count": 70,
   "metadata": {},
   "outputs": [
    {
     "name": "stdout",
     "output_type": "stream",
     "text": [
      "Training Score: 0.450899232616634\n",
      "Testing Score: 0.45609212483123274\n"
     ]
    }
   ],
   "source": [
    "model.fit(X_train, y_train)\n",
    "training_score = model.score(X_train, y_train)\n",
    "testing_score = model.score(X_test, y_test)\n",
    "\n",
    "print(f\"Training Score: {training_score}\")\n",
    "print(f\"Testing Score: {testing_score}\")"
   ]
  },
  {
   "cell_type": "code",
   "execution_count": 71,
   "metadata": {},
   "outputs": [
    {
     "data": {
      "text/plain": [
       "Text(0.5, 1.0, 'Residual Plot')"
      ]
     },
     "execution_count": 71,
     "metadata": {},
     "output_type": "execute_result"
    },
    {
     "data": {
      "image/png": "[encoded data removed]",
      "text/plain": [
       "<Figure size 432x288 with 1 Axes>"
      ]
     },
     "metadata": {
      "needs_background": "light"
     },
     "output_type": "display_data"
    }
   ],
   "source": [
    "plt.scatter(model.predict(X_train), model.predict(X_train) - y_train, c=\"blue\", label=\"Training Data\")\n",
    "plt.scatter(model.predict(X_test), model.predict(X_test) - y_test, c=\"orange\", label=\"Testing Data\")\n",
    "plt.legend()\n",
    "plt.hlines(y=0, xmin=y.min(), xmax=y.max())\n",
    "plt.title(\"Residual Plot\")"
   ]
  },
  {
   "cell_type": "markdown",
   "metadata": {},
   "source": [
    "## Initialzing X and y variables for the non-historic coffee data model"
   ]
  },
  {
   "cell_type": "code",
   "execution_count": 72,
   "metadata": {},
   "outputs": [],
   "source": [
    "complete_data = complete_data[complete_data[\"next_years_price\"] != 0]"
   ]
  },
  {
   "cell_type": "code",
   "execution_count": 73,
   "metadata": {},
   "outputs": [
    {
     "name": "stdout",
     "output_type": "stream",
     "text": [
      "Shape:  (910, 4) (910, 1)\n"
     ]
    }
   ],
   "source": [
    "X = complete_data[[\"pct_wht\", \"pct_25_34\", \"pct_college_deg\", \"num_coffee_shops\"]]\n",
    "y = complete_data[\"next_years_price\"].values.reshape(-1, 1)\n",
    "\n",
    "print(\"Shape: \", X.shape, y.shape)"
   ]
  },
  {
   "cell_type": "code",
   "execution_count": 74,
   "metadata": {},
   "outputs": [],
   "source": [
    "X_train, X_test, y_train, y_test = train_test_split(X, y, random_state=42)"
   ]
  },
  {
   "cell_type": "code",
   "execution_count": 75,
   "metadata": {},
   "outputs": [],
   "source": [
    "model = LinearRegression()"
   ]
  },
  {
   "cell_type": "code",
   "execution_count": 76,
   "metadata": {},
   "outputs": [
    {
     "name": "stdout",
     "output_type": "stream",
     "text": [
      "Training Score: 0.4513907463797298\n",
      "Testing Score: 0.45708689877927017\n"
     ]
    }
   ],
   "source": [
    "model.fit(X_train, y_train)\n",
    "training_score = model.score(X_train, y_train)\n",
    "testing_score = model.score(X_test, y_test)\n",
    "\n",
    "print(f\"Training Score: {training_score}\")\n",
    "print(f\"Testing Score: {testing_score}\")"
   ]
  },
  {
   "cell_type": "code",
   "execution_count": 77,
   "metadata": {},
   "outputs": [
    {
     "data": {
      "text/plain": [
       "Text(0.5, 1.0, 'Residual Plot')"
      ]
     },
     "execution_count": 77,
     "metadata": {},
     "output_type": "execute_result"
    },
    {
     "data": {
      "image/png": "[encoded data removed]",
      "text/plain": [
       "<Figure size 432x288 with 1 Axes>"
      ]
     },
     "metadata": {
      "needs_background": "light"
     },
     "output_type": "display_data"
    }
   ],
   "source": [
    "plt.scatter(model.predict(X_train), model.predict(X_train) - y_train, c=\"blue\", label=\"Training Data\")\n",
    "plt.scatter(model.predict(X_test), model.predict(X_test) - y_test, c=\"orange\", label=\"Testing Data\")\n",
    "plt.legend()\n",
    "plt.hlines(y=0, xmin=y.min(), xmax=y.max())\n",
    "plt.title(\"Residual Plot\")"
   ]
  },
  {
   "cell_type": "code",
   "execution_count": null,
   "metadata": {},
   "outputs": [],
   "source": []
  }
 ],
 "metadata": {
  "kernelspec": {
   "display_name": "Python 3",
   "language": "python",
   "name": "python3"
  },
  "language_info": {
   "codemirror_mode": {
    "name": "ipython",
    "version": 3
   },
   "file_extension": ".py",
   "mimetype": "text/x-python",
   "name": "python",
   "nbconvert_exporter": "python",
   "pygments_lexer": "ipython3",
   "version": "3.7.3"
  }
 },
 "nbformat": 4,
 "nbformat_minor": 2
}
