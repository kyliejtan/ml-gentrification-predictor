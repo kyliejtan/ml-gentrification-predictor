{
 "cells": [
  {
   "cell_type": "markdown",
   "metadata": {},
   "source": [
    "## Importing dependencies and environmental variables"
   ]
  },
  {
   "cell_type": "code",
   "execution_count": 1,
   "metadata": {},
   "outputs": [],
   "source": [
    "# Dependencies\n",
    "import csv as csv\n",
    "import http.client \n",
    "import json\n",
    "import numpy as np\n",
    "import os\n",
    "import pandas as pd\n",
    "import pprint\n",
    "import psycopg2\n",
    "import requests\n",
    "import sqlalchemy\n",
    "from bs4 import BeautifulSoup as bs\n",
    "from dotenv import load_dotenv\n",
    "from selenium import webdriver\n",
    "from sodapy import Socrata\n",
    "from splinter import Browser\n",
    "from sqlalchemy.ext.automap import automap_base\n",
    "from sqlalchemy.ext.declarative import declarative_base\n",
    "from sqlalchemy.orm import Session\n",
    "from sqlalchemy import create_engine\n",
    "from sqlalchemy import Column, Integer, Float, Date\n",
    "from time import sleep"
   ]
  },
  {
   "cell_type": "code",
   "execution_count": 2,
   "metadata": {},
   "outputs": [],
   "source": [
    "# Loading homeowrk7.env so that the environment variables can be used in the engine object url\n",
    "load_dotenv(\"project3.env\")\n",
    "# Initializing variables to hold each environmet varaible\n",
    "username=os.environ.get(\"USERNAME\")\n",
    "password=os.environ.get(\"PASSWORD\")\n",
    "host=os.environ.get(\"HOST\")\n",
    "port=os.environ.get(\"PORT\")\n",
    "database=os.environ.get(\"DATABASE\")\n",
    "google_key = os.environ.get('GOOGLE_API_KEY')\n",
    "yelp_client_id = os.environ.get('YELP_CLIENT_ID')\n",
    "yelp_key = os.environ.get('YELP_API_KEY')\n",
    "sf_data_key = os.environ.get('SFDATAAPPTOKEN')\n",
    "acs_5yr_key = os.environ.get('ACS_5YR_KEY')"
   ]
  },
  {
   "cell_type": "code",
   "execution_count": 3,
   "metadata": {},
   "outputs": [],
   "source": [
    "pd.set_option('display.max_rows', 500)\n",
    "pd.set_option('display.max_columns', 500)\n",
    "pd.set_option('display.width', 1000)"
   ]
  },
  {
   "cell_type": "markdown",
   "metadata": {},
   "source": [
    "## Test querying the ACS 5-year API"
   ]
  },
  {
   "cell_type": "code",
   "execution_count": 7,
   "metadata": {},
   "outputs": [],
   "source": [
    "# Initializing a variable for the total population of the query zip code\n",
    "total_pop = \"B01001_001E\"\n",
    "# Initializing variables to hold the numbers of females aged 24-34, and white females aged 24-34\n",
    "total_24_29_female = \"B01001_035E\"\n",
    "total_30_34_female = \"B01001_036E\"\n",
    "total_24_29_female_wht = \"B01001A_024E\"\n",
    "total_30_34_female_wht = \"B01001A_025E\"\n",
    "# Initializing variables to hold the numbers of males aged 24-34, and white males aged 24-34\n",
    "total_24_29_male = \"B01001_011E\"\n",
    "total_30_34_male = \"B01001_012E\"\n",
    "total_24_29_male_wht = \"B01001A_009E\"\n",
    "total_30_34_male_wht = \"B01001A_010E\"\n",
    "#\n",
    "total_wht = \"B01001A_001E\"\n",
    "# Initializing variables to hold the numbers of college degree-holders living in the query zip code\n",
    "with_bachelors = \"B06009_005E\"\n",
    "with_advanced_deg = \"B06009_006E\"\n",
    "# Concatenating all of the above variables into a query string\n",
    "variables = (total_pop \n",
    "             + \",\" + total_24_29_female \n",
    "             + \",\" + total_30_34_female \n",
    "             + \",\" + total_24_29_male \n",
    "             + \",\" + total_30_34_male \n",
    "             + \",\" + total_24_29_female_wht \n",
    "             + \",\" + total_30_34_female_wht \n",
    "             + \",\" + total_24_29_male_wht \n",
    "             + \",\" + total_30_34_male_wht \n",
    "             + \",\" + total_wht\n",
    "             + \",\" + with_bachelors \n",
    "             + \",\" + with_advanced_deg)"
   ]
  },
  {
   "cell_type": "code",
   "execution_count": 39,
   "metadata": {},
   "outputs": [],
   "source": [
    "# Initializing a test zip code\n",
    "test_zip_code = 90001"
   ]
  },
  {
   "cell_type": "code",
   "execution_count": 43,
   "metadata": {},
   "outputs": [],
   "source": [
    "# Initializing varibales to hold the base url and the complete query url\n",
    "base_url = f\"https://api.census.gov/data/2011/acs/acs5?get=\"\n",
    "test_query_url = base_url+f\"{variables}&for=zip%20code%20tabulation%20area:{test_zip_code}&key={acs_5yr_key}\""
   ]
  },
  {
   "cell_type": "code",
   "execution_count": null,
   "metadata": {},
   "outputs": [],
   "source": [
    "base_url = f\"https://api.census.gov/data/2011/acs/acs5?get=\"\n",
    "test_query_url = base_url+f\"{variables}&for=zip%20code%20tabulation%20area:{test_zip_code}&key={acs_5yr_key}\""
   ]
  },
  {
   "cell_type": "code",
   "execution_count": 44,
   "metadata": {},
   "outputs": [
    {
     "data": {
      "text/plain": [
       "'https://api.census.gov/data/2011/acs/acs5?get=B01001_001E,B01001_035E,B01001_036E,B01001_011E,B01001_012E,B01001A_024E,B01001A_025E,B01001A_009E,B01001A_010E,B01001A_001E,B06009_005E,B06009_006E&for=zip%20code%20tabulation%20area:90001&key=13b3982d9633362d045587e957d3c1829384bce0'"
      ]
     },
     "execution_count": 44,
     "metadata": {},
     "output_type": "execute_result"
    }
   ],
   "source": [
    "# Test printing the query url\n",
    "test_query_url"
   ]
  },
  {
   "cell_type": "code",
   "execution_count": 45,
   "metadata": {},
   "outputs": [],
   "source": [
    "# Querying the ACS 5-year API\n",
    "acs_response = requests.get(test_query_url).json()"
   ]
  },
  {
   "cell_type": "code",
   "execution_count": 46,
   "metadata": {},
   "outputs": [
    {
     "data": {
      "text/plain": [
       "[['B01001_001E',\n",
       "  'B01001_035E',\n",
       "  'B01001_036E',\n",
       "  'B01001_011E',\n",
       "  'B01001_012E',\n",
       "  'B01001A_024E',\n",
       "  'B01001A_025E',\n",
       "  'B01001A_009E',\n",
       "  'B01001A_010E',\n",
       "  'B01001A_001E',\n",
       "  'B06009_005E',\n",
       "  'B06009_006E',\n",
       "  'zip code tabulation area'],\n",
       " ['54760',\n",
       "  '1971',\n",
       "  '2193',\n",
       "  '3144',\n",
       "  '2000',\n",
       "  '1608',\n",
       "  '1805',\n",
       "  '2353',\n",
       "  '1570',\n",
       "  '40379',\n",
       "  '912',\n",
       "  '278',\n",
       "  '90001']]"
      ]
     },
     "execution_count": 46,
     "metadata": {},
     "output_type": "execute_result"
    }
   ],
   "source": [
    "# Printing the query results for the test zip code\n",
    "acs_response"
   ]
  },
  {
   "cell_type": "code",
   "execution_count": null,
   "metadata": {},
   "outputs": [],
   "source": [
    "# Loading the query results into a DataFrame with updated column names\n",
    "test_acs_df = pd.DataFrame(acs_response[1:], columns=[\n",
    "                                                      \"total_pop\",\n",
    "                                                      \"total_24_29_female\", \n",
    "                                                      \"total_30_34_female\", \n",
    "                                                      \"total_24_29_male\",\n",
    "                                                      \"total_30_34_male\",\n",
    "                                                      \"total_24_29_female_wht\",\n",
    "                                                      \"total_30_34_female_wht\",\n",
    "                                                      \"total_24_29_male_wht\",\n",
    "                                                      \"total_30_34_male_wht\",\n",
    "                                                      \"total_wht\",\n",
    "                                                      \"with_bachelors\",\n",
    "                                                      \"with_advanced_deg\",\n",
    "                                                      \"zip_code\"\n",
    "                                                     ])\n",
    "cols = test_acs_df.columns.tolist()\n",
    "cols = cols[-1:] + cols[:-1]\n",
    "test_acs_df = test_acs_df[cols]"
   ]
  },
  {
   "cell_type": "code",
   "execution_count": null,
   "metadata": {},
   "outputs": [],
   "source": [
    "# Creating calculated columns for percent of zip code population aged 25-34, percent white, \n",
    "# and percent with a college degree\n",
    "test_acs_df[\"pct_25_34\"] = ((int(test_acs_df[\"total_24_29_female\"])\n",
    "                            + int(test_acs_df[\"total_30_34_female\"]) \n",
    "                            + int(test_acs_df[\"total_24_29_male\"])\n",
    "                            + int(test_acs_df[\"total_30_34_female\"]))\n",
    "                            / int(test_acs_df[\"total_pop\"])\n",
    "                           ) * 100\n",
    "test_acs_df[\"pct_college_deg\"] = ((int(test_acs_df[\"with_bachelors\"]) \n",
    "                                  + int(test_acs_df[\"with_advanced_deg\"]))\n",
    "                                  / int(test_acs_df[\"total_pop\"])\n",
    "                                 ) * 100\n",
    "test_acs_df[\"pct_wht\"] = (int(test_acs_df[\"total_wht\"]) / int(test_acs_df[\"total_pop\"])) * 100"
   ]
  },
  {
   "cell_type": "code",
   "execution_count": null,
   "metadata": {},
   "outputs": [],
   "source": [
    "# Displaying the DataFrame of test results\n",
    "test_acs_df"
   ]
  },
  {
   "cell_type": "markdown",
   "metadata": {},
   "source": [
    "## Initializing variables with lists of all zip codes"
   ]
  },
  {
   "cell_type": "code",
   "execution_count": 4,
   "metadata": {},
   "outputs": [],
   "source": [
    "# Initializing a variable with a list of all of the zipcodes in San Francisco\n",
    "sf_zip_codes = [94102, 94103, 94104, 94105, 94107, 94108, 94109, 94110, 94111, 94112, 94114, 94115, 94116, 94117, \n",
    "               94118, 94121, 94122, 94123, 94124, 94127, 94129, 94130, 94131, 94132, 94133, 94134, 94158]"
   ]
  },
  {
   "cell_type": "code",
   "execution_count": 5,
   "metadata": {},
   "outputs": [],
   "source": [
    "seattle_zip_codes = [98101, 98102, 98103, 98104, 98105, 98106, 98107, 98108, 98109, 98112, 98115, 98116, 98117, \n",
    "                     98118, 98119, 98121, 98122, 98124, 98125, 98126, 98133, 98134, 98136, 98144, 98146]"
   ]
  },
  {
   "cell_type": "code",
   "execution_count": 6,
   "metadata": {},
   "outputs": [],
   "source": [
    "la_zip_codes = [90001, 90004, 90007, 90010, 90012, 90013, 90014, 90015, 90016, 90017, 90018, 90019, 90020, 90021, \n",
    "                90023, 90024, 90025, 90026, 90027, 90028, 90029, 90031, 90033, 90034, 90035, 90036, 90038, 90039, \n",
    "                90041, 90042, 90045, 90046, 90047, 90048, 90049, 90057, 90064, 90065, 90066, 90067, 90068, 90069, \n",
    "                90071, 90077, 90089, 90094, 90230, 90501]"
   ]
  },
  {
   "cell_type": "code",
   "execution_count": 7,
   "metadata": {},
   "outputs": [],
   "source": [
    "greater_la_zip_codes = [90001, 90004, 90007, 90010, 90012, 90013, 90014, 90015, 90016, 90017, 90018, 90019, 90020, \n",
    "                        90021, 90023, 90024, 90025, 90026, 90027, 90028, 90029, 90031, 90033, 90034, 90035, 90036, \n",
    "                        90038, 90039, 90041, 90042, 90045, 90046, 90047, 90048, 90049, 90057, 90064, 90065, 90066, \n",
    "                        90067, 90068, 90069, 90071, 90077, 90089, 90094, 90230, 90232, 90272, 90291, 90292, 90501, \n",
    "                        90710, 90731, 90732, 91040, 91303, 91306, 91307, 91311, 91316, 91324, 91325, 91335, 91342, \n",
    "                        91343, 91344, 91345, 91352, 91356, 91364, 91367, 91401, 91402, 91403, 91405, 91406, 91423, \n",
    "                        91436, 91601, 91602, 91604, 91605, 91606, 91607, 94608, 94901, 95838]"
   ]
  },
  {
   "cell_type": "code",
   "execution_count": 80,
   "metadata": {},
   "outputs": [],
   "source": [
    "california_zip_codes = (sf_zip_codes + greater_la_zip_codes)"
   ]
  },
  {
   "cell_type": "code",
   "execution_count": 81,
   "metadata": {},
   "outputs": [],
   "source": [
    "washington_state_zip_codes = seattle_zip_codes"
   ]
  },
  {
   "cell_type": "code",
   "execution_count": 8,
   "metadata": {},
   "outputs": [],
   "source": [
    "all_zip_codes = (sf_zip_codes + seattle_zip_codes + greater_la_zip_codes)\n",
    "all_zip_codes.sort()"
   ]
  },
  {
   "cell_type": "code",
   "execution_count": 9,
   "metadata": {},
   "outputs": [
    {
     "data": {
      "text/plain": [
       "140"
      ]
     },
     "execution_count": 9,
     "metadata": {},
     "output_type": "execute_result"
    }
   ],
   "source": [
    "len(all_zip_codes)"
   ]
  },
  {
   "cell_type": "code",
   "execution_count": 18,
   "metadata": {},
   "outputs": [],
   "source": [
    "zip_code_df = pd.DataFrame(all_zip_codes, columns=[\"zipcode\"])\n",
    "zip_code_df.to_csv(\"data/zipcodes.csv\", index=False)"
   ]
  },
  {
   "cell_type": "markdown",
   "metadata": {},
   "source": [
    "## Query and data frame setup"
   ]
  },
  {
   "cell_type": "code",
   "execution_count": 10,
   "metadata": {},
   "outputs": [],
   "source": [
    "# Initializing a variable for the total population of the query zip code\n",
    "total_pop = \"B01001_001E\"\n",
    "# Initializing variables to hold the numbers of females aged 24-34, and white females aged 24-34\n",
    "total_24_29_female = \"B01001_035E\"\n",
    "total_30_34_female = \"B01001_036E\"\n",
    "total_24_29_female_wht = \"B01001A_024E\"\n",
    "total_30_34_female_wht = \"B01001A_025E\"\n",
    "# Initializing variables to hold the numbers of males aged 24-34, and white males aged 24-34\n",
    "total_24_29_male = \"B01001_011E\"\n",
    "total_30_34_male = \"B01001_012E\"\n",
    "total_24_29_male_wht = \"B01001A_009E\"\n",
    "total_30_34_male_wht = \"B01001A_010E\"\n",
    "#\n",
    "total_wht = \"B01001A_001E\"\n",
    "# Initializing variables to hold the numbers of college degree-holders living in the query zip code\n",
    "with_bachelors = \"B06009_005E\"\n",
    "with_advanced_deg = \"B06009_006E\"\n",
    "# Concatenating all of the above variables into a query string\n",
    "variables = (total_pop \n",
    "             + \",\" + total_24_29_female \n",
    "             + \",\" + total_30_34_female \n",
    "             + \",\" + total_24_29_male \n",
    "             + \",\" + total_30_34_male \n",
    "             + \",\" + total_24_29_female_wht \n",
    "             + \",\" + total_30_34_female_wht \n",
    "             + \",\" + total_24_29_male_wht \n",
    "             + \",\" + total_30_34_male_wht \n",
    "             + \",\" + total_wht\n",
    "             + \",\" + with_bachelors \n",
    "             + \",\" + with_advanced_deg)"
   ]
  },
  {
   "cell_type": "code",
   "execution_count": 49,
   "metadata": {},
   "outputs": [],
   "source": [
    "df_columns=[\n",
    "            \"total_pop\",\n",
    "            \"total_24_29_female\", \n",
    "            \"total_30_34_female\", \n",
    "            \"total_24_29_male\",\n",
    "            \"total_30_34_male\",\n",
    "            \"total_24_29_female_wht\",\n",
    "            \"total_30_34_female_wht\",\n",
    "            \"total_24_29_male_wht\",\n",
    "            \"total_30_34_male_wht\",\n",
    "            \"total_wht\",\n",
    "            \"with_bachelors\",\n",
    "            \"with_advanced_deg\",\n",
    "            \"zip_code\"\n",
    "           ]"
   ]
  },
  {
   "cell_type": "markdown",
   "metadata": {},
   "source": [
    "## Querying the ACS 5-year API for demographic data for all zip codes from 2011 - 2017"
   ]
  },
  {
   "cell_type": "code",
   "execution_count": 57,
   "metadata": {},
   "outputs": [
    {
     "name": "stdout",
     "output_type": "stream",
     "text": [
      "2011\n",
      "98124\n",
      "2012\n",
      "98124\n",
      "2013\n",
      "98124\n",
      "2014\n",
      "98124\n",
      "2015\n",
      "98124\n",
      "2016\n",
      "98124\n",
      "2017\n",
      "98124\n"
     ]
    }
   ],
   "source": [
    "total_zip_code_list = []\n",
    "no_response_list = []\n",
    "year_list = [\"2011\", \"2012\", \"2013\", \"2014\", \"2015\", \"2016\", \"2017\"]\n",
    "for year in year_list:\n",
    "    print(year)\n",
    "    for zip_code in all_zip_codes:\n",
    "        try:\n",
    "            base_url = f\"https://api.census.gov/data/{year}/acs/acs5?get=\"\n",
    "            query_url = base_url+f\"{variables}&for=zip%20code%20tabulation%20area:{zip_code}&key={acs_5yr_key}\"\n",
    "            zip_code_response = requests.get(query_url).json()\n",
    "            zip_code_df = pd.DataFrame(zip_code_response[1:], columns=df_columns)\n",
    "            cols = zip_code_df.columns.tolist()\n",
    "            cols = cols[-2:] + cols[:-2]\n",
    "            zip_code_df = zip_code_df[cols]\n",
    "            zip_code_df[\"year\"] = year\n",
    "            if int(zip_code_df[\"total_pop\"]) > 0:\n",
    "                zip_code_df[\"pct_25_34\"] = ((int(zip_code_df[\"total_24_29_female\"])\n",
    "                            + int(zip_code_df[\"total_30_34_female\"]) \n",
    "                            + int(zip_code_df[\"total_24_29_male\"])\n",
    "                            + int(zip_code_df[\"total_30_34_female\"]))\n",
    "                            / int(zip_code_df[\"total_pop\"])\n",
    "                           ) * 100\n",
    "                zip_code_df[\"pct_college_deg\"] = ((int(zip_code_df[\"with_bachelors\"]) \n",
    "                                  + int(zip_code_df[\"with_advanced_deg\"]))\n",
    "                                  / int(zip_code_df[\"total_pop\"])\n",
    "                                 ) * 100\n",
    "                zip_code_df[\"pct_wht\"] = (int(zip_code_df[\"total_wht\"]) / int(zip_code_df[\"total_pop\"])) * 100\n",
    "            else:\n",
    "                zip_code_df[\"pct_25_34\"] = 0\n",
    "                zip_code_df[\"pct_college_deg\"] = 0\n",
    "                zip_code_df[\"pct_wht\"] = 0\n",
    "            total_zip_code_list.append(zip_code_df)\n",
    "        except json.decoder.JSONDecodeError:\n",
    "            no_response_list.append(zip_code)\n",
    "            print(zip_code)\n",
    "            pass\n",
    "    sleep(240)"
   ]
  },
  {
   "cell_type": "code",
   "execution_count": 59,
   "metadata": {},
   "outputs": [],
   "source": [
    "total_zip_code_responses_df = pd.concat(total_zip_code_list, ignore_index=True)"
   ]
  },
  {
   "cell_type": "code",
   "execution_count": 61,
   "metadata": {},
   "outputs": [],
   "source": [
    "total_zip_code_responses_df.to_csv(\"data/total_zip_code_responses.csv\", index=False, header=True)"
   ]
  },
  {
   "cell_type": "code",
   "execution_count": null,
   "metadata": {},
   "outputs": [],
   "source": []
  }
 ],
 "metadata": {
  "kernelspec": {
   "display_name": "Python 3",
   "language": "python",
   "name": "python3"
  },
  "language_info": {
   "codemirror_mode": {
    "name": "ipython",
    "version": 3
   },
   "file_extension": ".py",
   "mimetype": "text/x-python",
   "name": "python",
   "nbconvert_exporter": "python",
   "pygments_lexer": "ipython3",
   "version": "3.7.3"
  }
 },
 "nbformat": 4,
 "nbformat_minor": 2
}
