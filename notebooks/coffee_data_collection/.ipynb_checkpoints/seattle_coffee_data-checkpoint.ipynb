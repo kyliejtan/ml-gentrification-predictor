{
 "cells": [
  {
   "cell_type": "markdown",
   "metadata": {},
   "source": [
    "## Importing dependencies and environmental variables"
   ]
  },
  {
   "cell_type": "code",
   "execution_count": 3,
   "metadata": {},
   "outputs": [],
   "source": [
    "# Dependencies\n",
    "import csv as csv\n",
    "import http.client \n",
    "import json\n",
    "import numpy as np\n",
    "import os\n",
    "import pandas as pd\n",
    "import pprint\n",
    "import psycopg2\n",
    "import requests\n",
    "import sqlalchemy\n",
    "from bs4 import BeautifulSoup as bs\n",
    "from dotenv import load_dotenv\n",
    "from selenium import webdriver\n",
    "from sodapy import Socrata\n",
    "from splinter import Browser\n",
    "from sqlalchemy.ext.automap import automap_base\n",
    "from sqlalchemy.ext.declarative import declarative_base\n",
    "from sqlalchemy.orm import Session\n",
    "from sqlalchemy import create_engine\n",
    "from sqlalchemy import Column, Integer, Float, Date"
   ]
  },
  {
   "cell_type": "code",
   "execution_count": 4,
   "metadata": {},
   "outputs": [],
   "source": [
    "# Loading homeowrk7.env so that the environment variables can be used in the engine object url\n",
    "load_dotenv(\"project3.env\")\n",
    "# Initializing variables to hold each environmet varaible\n",
    "username=os.environ.get(\"USERNAME\")\n",
    "password=os.environ.get(\"PASSWORD\")\n",
    "host=os.environ.get(\"HOST\")\n",
    "port=os.environ.get(\"PORT\")\n",
    "database=os.environ.get(\"DATABASE\")\n",
    "google_key = os.environ.get('GOOGLE_API_KEY')\n",
    "yelp_client_id = os.environ.get('YELP_CLIENT_ID')\n",
    "yelp_key = os.environ.get('YELP_API_KEY')\n",
    "sf_data_key = os.environ.get('SFDATAAPPTOKEN')"
   ]
  },
  {
   "cell_type": "code",
   "execution_count": 5,
   "metadata": {},
   "outputs": [],
   "source": [
    "pd.set_option('display.max_rows', 500)\n",
    "pd.set_option('display.max_columns', 500)\n",
    "pd.set_option('display.width', 1000)"
   ]
  },
  {
   "cell_type": "markdown",
   "metadata": {},
   "source": [
    "## Querying the Seattle Registered Business API for Startbucks locations"
   ]
  },
  {
   "cell_type": "code",
   "execution_count": 4,
   "metadata": {},
   "outputs": [],
   "source": [
    "client = Socrata(\"data.seattle.gov\", sf_data_key)"
   ]
  },
  {
   "cell_type": "code",
   "execution_count": 31,
   "metadata": {},
   "outputs": [],
   "source": [
    "starbucks_results = client.get(\"wnbq-64tb\", where=\"business_legal_name ='STARBUCKS CORPORATION'\")\n",
    "starbucks_results_df = pd.DataFrame.from_records(starbucks_results)"
   ]
  },
  {
   "cell_type": "markdown",
   "metadata": {},
   "source": [
    "## Querying the Seattle Registered Business API for Peet's Coffee locations"
   ]
  },
  {
   "cell_type": "markdown",
   "metadata": {},
   "source": [
    "In Seattle Peet's coffee is sold at a coffee shop and bakery called Specialty's Cafe and Bakery. We will have to decide whether we want to include this in our data set."
   ]
  },
  {
   "cell_type": "code",
   "execution_count": 53,
   "metadata": {},
   "outputs": [],
   "source": [
    "specialtys_coffee_results = client.get(\"wnbq-64tb\", where=\"trade_name LIKE'%SPECIALTYS CAFE%'\")\n",
    "specialtys_coffee_results_df = pd.DataFrame.from_records(specialtys_coffee_results)"
   ]
  },
  {
   "cell_type": "markdown",
   "metadata": {},
   "source": [
    "## Querying the Seattle Registered Business API for bourgie coffee shops"
   ]
  },
  {
   "cell_type": "code",
   "execution_count": 104,
   "metadata": {},
   "outputs": [],
   "source": [
    "bourgie_coffee_shop_list = [\"PRESERVE AND GATHER\",\n",
    "                               \"MAKEDA AND MINGUS\",\n",
    "                               \"HERKIMER COFFEE\",\n",
    "                               \"ZOKA\",\n",
    "                               \"VIF\",\n",
    "                               \"LIGHTHOUSE ROASTERS\",\n",
    "                               \"MILSTEAD\",\n",
    "                               \"CAFFE LADRO\",\n",
    "                               \"ESPRESSO VIVACE\",\n",
    "                               \"LA MARZOCCO EXPERIENCE\",\n",
    "                               \"ANALOG COFFEE\",\n",
    "                               \"MR WEST\",\n",
    "                               \"VICTROLA\",\n",
    "                               \"CAFFE VITA\",\n",
    "                               \"TOUGO\",\n",
    "                               \"SEATTLE COFFEE WORKS\",\n",
    "                               \"ELM COFFEE\",\n",
    "                               \"CAFFE UMBRIA\",\n",
    "                               \"SOUND & FOG\",\n",
    "                               \"EMPIRE ESPRESSO\"\n",
    "                              ]"
   ]
  },
  {
   "cell_type": "code",
   "execution_count": 107,
   "metadata": {},
   "outputs": [],
   "source": [
    "bourgie_coffee_df = pd.DataFrame()\n",
    "for coffee_shop in bourgie_coffee_shop_list:\n",
    "    query = client.get(\"wnbq-64tb\", where=f\"trade_name LIKE '%{coffee_shop}%'\")\n",
    "    results_df = pd.DataFrame.from_records(query)\n",
    "    bourgie_coffee_df = pd.concat([bourgie_coffee_df, results_df], ignore_index=True, sort=True)"
   ]
  },
  {
   "cell_type": "markdown",
   "metadata": {},
   "source": [
    "## Concatenating all coffee shop data frames together and cleaning them"
   ]
  },
  {
   "cell_type": "code",
   "execution_count": 108,
   "metadata": {},
   "outputs": [],
   "source": [
    "complete_coffee_df = pd.DataFrame()\n",
    "complete_coffee_df = pd.concat([starbucks_results_df, \n",
    "                                bourgie_coffee_df\n",
    "                               ], ignore_index=True, sort=True)"
   ]
  },
  {
   "cell_type": "code",
   "execution_count": 110,
   "metadata": {},
   "outputs": [],
   "source": [
    "complete_coffee_df.to_csv(\"data/seattle_coffee_shop_data.csv\", index=False, header=True)"
   ]
  },
  {
   "cell_type": "markdown",
   "metadata": {},
   "source": [
    "## Formatting all result .csv's to have the same headers so they can be concatanated"
   ]
  },
  {
   "cell_type": "code",
   "execution_count": 39,
   "metadata": {},
   "outputs": [],
   "source": [
    "complete_coffee_df = pd.read_csv(\"data/seattle_coffee_shop_data.csv\")"
   ]
  },
  {
   "cell_type": "code",
   "execution_count": 40,
   "metadata": {},
   "outputs": [
    {
     "data": {
      "text/plain": [
       "Index(['business_legal_name', 'business_phone', 'city_account_number', 'city_state_zip', 'license_start_date', 'naics_code', 'naics_description', 'ownership_type', 'state', 'street_address', 'trade_name', 'ubi', 'zip'], dtype='object')"
      ]
     },
     "execution_count": 40,
     "metadata": {},
     "output_type": "execute_result"
    }
   ],
   "source": [
    "complete_coffee_df.columns"
   ]
  },
  {
   "cell_type": "code",
   "execution_count": 41,
   "metadata": {},
   "outputs": [],
   "source": [
    "complete_coffee_df[\"location\"] = None\n",
    "complete_coffee_df[\"location_end_date\"] = None"
   ]
  },
  {
   "cell_type": "code",
   "execution_count": 42,
   "metadata": {},
   "outputs": [],
   "source": [
    "cleaned_complete_coffee_df = complete_coffee_df[[\"zip\",\n",
    "                                                 \"trade_name\",\n",
    "                                                 \"business_legal_name\",\n",
    "                                                 \"city_state_zip\",\n",
    "                                                 \"street_address\",\n",
    "                                                 \"location\",\n",
    "                                                 \"license_start_date\",   \n",
    "                                                 \"location_end_date\"\n",
    "                                                ]]"
   ]
  },
  {
   "cell_type": "code",
   "execution_count": 44,
   "metadata": {},
   "outputs": [],
   "source": [
    "cleaned_complete_coffee_df = cleaned_complete_coffee_df.rename(columns={\"zip\": \"zip_code\",\n",
    "                                                                        \"trade_name\": \"dba_name\",\n",
    "                                                                        \"business_legal_name\": \"ownership_name\",\n",
    "                                                                        \"city_state_zip\": \"city\",\n",
    "                                                                        \"license_start_date\": \"location_start_date\"\n",
    "                                                                        })"
   ]
  },
  {
   "cell_type": "code",
   "execution_count": 49,
   "metadata": {},
   "outputs": [],
   "source": [
    "cleaned_complete_coffee_df[\"dba_name\"] = cleaned_complete_coffee_df[\"dba_name\"].str.title()\n",
    "cleaned_complete_coffee_df[\"ownership_name\"] = cleaned_complete_coffee_df[\"ownership_name\"].str.title()\n",
    "cleaned_complete_coffee_df[\"city\"] = cleaned_complete_coffee_df[\"city\"].str.title()\n",
    "cleaned_complete_coffee_df[\"street_address\"] = cleaned_complete_coffee_df[\"street_address\"].str.title()"
   ]
  },
  {
   "cell_type": "code",
   "execution_count": null,
   "metadata": {},
   "outputs": [],
   "source": [
    "for row in cleaned_complete_coffee_df.iterrows():\n",
    "    row[1][0] = int(row[1][0][:5])"
   ]
  },
  {
   "cell_type": "code",
   "execution_count": 60,
   "metadata": {},
   "outputs": [],
   "source": [
    "cleaned_complete_coffee_df.to_csv(\"data/cleaned_seattle_coffee_shop_data.csv\", index=False, header=True)"
   ]
  },
  {
   "cell_type": "code",
   "execution_count": null,
   "metadata": {},
   "outputs": [],
   "source": []
  }
 ],
 "metadata": {
  "kernelspec": {
   "display_name": "Python 3",
   "language": "python",
   "name": "python3"
  },
  "language_info": {
   "codemirror_mode": {
    "name": "ipython",
    "version": 3
   },
   "file_extension": ".py",
   "mimetype": "text/x-python",
   "name": "python",
   "nbconvert_exporter": "python",
   "pygments_lexer": "ipython3",
   "version": "3.7.3"
  }
 },
 "nbformat": 4,
 "nbformat_minor": 2
}
