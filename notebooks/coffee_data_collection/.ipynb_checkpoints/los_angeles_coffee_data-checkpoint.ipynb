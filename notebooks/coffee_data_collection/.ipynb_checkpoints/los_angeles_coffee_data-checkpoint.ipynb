{
 "cells": [
  {
   "cell_type": "markdown",
   "metadata": {},
   "source": [
    "## Importing dependencies and environmental variables"
   ]
  },
  {
   "cell_type": "code",
   "execution_count": 1,
   "metadata": {},
   "outputs": [],
   "source": [
    "# Dependencies\n",
    "import csv as csv\n",
    "import http.client \n",
    "import json\n",
    "import numpy as np\n",
    "import os\n",
    "import pandas as pd\n",
    "import pprint\n",
    "import psycopg2\n",
    "import requests\n",
    "import sqlalchemy\n",
    "from bs4 import BeautifulSoup as bs\n",
    "from dotenv import load_dotenv\n",
    "from selenium import webdriver\n",
    "from sodapy import Socrata\n",
    "from splinter import Browser\n",
    "from sqlalchemy.ext.automap import automap_base\n",
    "from sqlalchemy.ext.declarative import declarative_base\n",
    "from sqlalchemy.orm import Session\n",
    "from sqlalchemy import create_engine\n",
    "from sqlalchemy import Column, Integer, Float, Date"
   ]
  },
  {
   "cell_type": "code",
   "execution_count": 2,
   "metadata": {},
   "outputs": [],
   "source": [
    "# Loading homeowrk7.env so that the environment variables can be used in the engine object url\n",
    "load_dotenv(\"project3.env\")\n",
    "# Initializing variables to hold each environmet varaible\n",
    "username=os.environ.get(\"USERNAME\")\n",
    "password=os.environ.get(\"PASSWORD\")\n",
    "host=os.environ.get(\"HOST\")\n",
    "port=os.environ.get(\"PORT\")\n",
    "database=os.environ.get(\"DATABASE\")\n",
    "google_key = os.environ.get('GOOGLE_API_KEY')\n",
    "yelp_client_id = os.environ.get('YELP_CLIENT_ID')\n",
    "yelp_key = os.environ.get('YELP_API_KEY')\n",
    "sf_data_key = os.environ.get('SFDATAAPPTOKEN')"
   ]
  },
  {
   "cell_type": "code",
   "execution_count": 3,
   "metadata": {},
   "outputs": [],
   "source": [
    "pd.set_option('display.max_rows', 500)\n",
    "pd.set_option('display.max_columns', 500)\n",
    "pd.set_option('display.width', 1000)"
   ]
  },
  {
   "cell_type": "markdown",
   "metadata": {},
   "source": [
    "## Querying the Los Angeles Active Business API for Startbucks locations"
   ]
  },
  {
   "cell_type": "code",
   "execution_count": 16,
   "metadata": {},
   "outputs": [],
   "source": [
    "client = Socrata(\"data.lacity.org\", sf_data_key)"
   ]
  },
  {
   "cell_type": "code",
   "execution_count": 17,
   "metadata": {},
   "outputs": [],
   "source": [
    "starbucks_results = client.get(\"6rrh-rzua\", where=\"business_name LIKE '%STARBUCKS%'\")\n",
    "starbucks_results_df = pd.DataFrame.from_records(starbucks_results)"
   ]
  },
  {
   "cell_type": "markdown",
   "metadata": {},
   "source": [
    "## Querying the Los Angeles Active Business API for bourgie coffee shops"
   ]
  },
  {
   "cell_type": "code",
   "execution_count": 70,
   "metadata": {},
   "outputs": [],
   "source": [
    "bourgie_coffee_shop_list = [\"ALFRED COFFEE\",\n",
    "                            \"BLUE BOTTLE COFFEE\",\n",
    "                            \"PEETS COFFEE\",\n",
    "                            \"COFFEE COMMISSARY\",\n",
    "                            \"COGNOSCENTI COFFEE\",\n",
    "                            \"ENDORFFEINE\",\n",
    "                            \"G&B COFFEE\",\n",
    "                            \"MENOTTI\",\n",
    "                            \"GO GET EM TIGER\",\n",
    "                            \"PARAMOUNT COFFEE PROJECT\",\n",
    "                            \"RUBIES AND DIAMONDS\",\n",
    "                            \"VERVE COFFEE ROASTERS\",\n",
    "                            \"FOUND COFFEE\",\n",
    "                            \"THE BOY & THE BEAR - COFFEE ROASTERY\",\n",
    "                            \"HILLTOP COFFEE + KITCHEN\",\n",
    "                            \"TACTILE COFFEE\",\n",
    "                            \"NOSSA FAMILIA COFFEE\",\n",
    "                            \"TIERRA MIA COFFEE COMPANY\"\n",
    "                           ]"
   ]
  },
  {
   "cell_type": "code",
   "execution_count": 71,
   "metadata": {},
   "outputs": [],
   "source": [
    "bourgie_coffee_df = pd.DataFrame()\n",
    "for coffee_shop in bourgie_coffee_shop_list:\n",
    "    query = client.get(\"6rrh-rzua\", where=f\"dba_name LIKE '%{coffee_shop}%'\")\n",
    "    results_df = pd.DataFrame.from_records(query)\n",
    "    bourgie_coffee_df = pd.concat([bourgie_coffee_df, results_df], ignore_index=True, sort=True)"
   ]
  },
  {
   "cell_type": "markdown",
   "metadata": {},
   "source": [
    "## Concatenating all coffee shop data frames together and cleaning them"
   ]
  },
  {
   "cell_type": "code",
   "execution_count": 72,
   "metadata": {},
   "outputs": [],
   "source": [
    "complete_coffee_df = pd.DataFrame()\n",
    "complete_coffee_df = pd.concat([starbucks_results_df, \n",
    "                                bourgie_coffee_df\n",
    "                               ], ignore_index=True, sort=True)"
   ]
  },
  {
   "cell_type": "code",
   "execution_count": 74,
   "metadata": {},
   "outputs": [],
   "source": [
    "complete_coffee_df.to_csv(\"data/los_angeles_coffee_shop_data.csv\", index=False, header=True)"
   ]
  },
  {
   "cell_type": "markdown",
   "metadata": {},
   "source": [
    "## Formatting all result .csv's to have the same headers so they can be concatanated"
   ]
  },
  {
   "cell_type": "code",
   "execution_count": 12,
   "metadata": {},
   "outputs": [],
   "source": [
    "complete_coffee_df = pd.read_csv(\"data/los_angeles_coffee_shop_data.csv\")"
   ]
  },
  {
   "cell_type": "code",
   "execution_count": 13,
   "metadata": {},
   "outputs": [
    {
     "data": {
      "text/plain": [
       "Index(['business_name', 'city', 'council_district', 'dba_name', 'location_1', 'location_account', 'location_description', 'location_start_date', 'mailing_address', 'mailing_city', 'mailing_zip_code', 'naics', 'primary_naics_description', 'street_address', 'zip_code'], dtype='object')"
      ]
     },
     "execution_count": 13,
     "metadata": {},
     "output_type": "execute_result"
    }
   ],
   "source": [
    "complete_coffee_df.columns"
   ]
  },
  {
   "cell_type": "code",
   "execution_count": 14,
   "metadata": {},
   "outputs": [],
   "source": [
    "complete_coffee_df[\"location\"] = None\n",
    "complete_coffee_df[\"location_end_date\"] = None"
   ]
  },
  {
   "cell_type": "code",
   "execution_count": 15,
   "metadata": {},
   "outputs": [],
   "source": [
    "cleaned_complete_coffee_df = complete_coffee_df[[\"zip_code\",\n",
    "                                                 \"dba_name\",\n",
    "                                                 \"business_name\",\n",
    "                                                 \"city\",\n",
    "                                                 \"street_address\",\n",
    "                                                 \"location_1\",                                                 \n",
    "                                                 \"location_start_date\",     \n",
    "                                                 \"location_end_date\"\n",
    "                                                ]]"
   ]
  },
  {
   "cell_type": "code",
   "execution_count": 18,
   "metadata": {},
   "outputs": [],
   "source": [
    "cleaned_complete_coffee_df = cleaned_complete_coffee_df.rename(columns={\"business_name\": \"ownership_name\",\n",
    "                                           \"location_1\": \"location\",\n",
    "                                          })"
   ]
  },
  {
   "cell_type": "code",
   "execution_count": 21,
   "metadata": {},
   "outputs": [],
   "source": [
    "cleaned_complete_coffee_df[\"dba_name\"] = cleaned_complete_coffee_df[\"dba_name\"].str.title()\n",
    "cleaned_complete_coffee_df[\"ownership_name\"] = cleaned_complete_coffee_df[\"ownership_name\"].str.title()\n",
    "cleaned_complete_coffee_df[\"city\"] = cleaned_complete_coffee_df[\"city\"].str.title()\n",
    "cleaned_complete_coffee_df[\"street_address\"] = cleaned_complete_coffee_df[\"street_address\"].str.title()"
   ]
  },
  {
   "cell_type": "code",
   "execution_count": 24,
   "metadata": {},
   "outputs": [],
   "source": [
    "for row in cleaned_complete_coffee_df.iterrows():\n",
    "    row[1][0] = int(row[1][0][:5])"
   ]
  },
  {
   "cell_type": "code",
   "execution_count": 26,
   "metadata": {},
   "outputs": [],
   "source": [
    "cleaned_complete_coffee_df.to_csv(\"data/cleaned_los_angeles_coffee_shop_data.csv\", index=False, header=True)"
   ]
  },
  {
   "cell_type": "code",
   "execution_count": null,
   "metadata": {},
   "outputs": [],
   "source": []
  }
 ],
 "metadata": {
  "kernelspec": {
   "display_name": "Python 3",
   "language": "python",
   "name": "python3"
  },
  "language_info": {
   "codemirror_mode": {
    "name": "ipython",
    "version": 3
   },
   "file_extension": ".py",
   "mimetype": "text/x-python",
   "name": "python",
   "nbconvert_exporter": "python",
   "pygments_lexer": "ipython3",
   "version": "3.7.3"
  }
 },
 "nbformat": 4,
 "nbformat_minor": 2
}
