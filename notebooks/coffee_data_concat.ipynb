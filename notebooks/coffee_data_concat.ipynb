{
 "cells": [
  {
   "cell_type": "markdown",
   "metadata": {},
   "source": [
    "## Importing dependencies and environmental variables"
   ]
  },
  {
   "cell_type": "code",
   "execution_count": 1,
   "metadata": {},
   "outputs": [],
   "source": [
    "# Dependencies\n",
    "import csv as csv\n",
    "import http.client \n",
    "import json\n",
    "import numpy as np\n",
    "import os\n",
    "import pandas as pd\n",
    "import pprint\n",
    "import psycopg2\n",
    "import requests\n",
    "import sqlalchemy\n",
    "from bs4 import BeautifulSoup as bs\n",
    "from dotenv import load_dotenv\n",
    "from selenium import webdriver\n",
    "from sodapy import Socrata\n",
    "from splinter import Browser\n",
    "from sqlalchemy.ext.automap import automap_base\n",
    "from sqlalchemy.ext.declarative import declarative_base\n",
    "from sqlalchemy.orm import Session\n",
    "from sqlalchemy import create_engine\n",
    "from sqlalchemy import Column, Integer, Float, Date"
   ]
  },
  {
   "cell_type": "code",
   "execution_count": 2,
   "metadata": {},
   "outputs": [],
   "source": [
    "# Loading homeowrk7.env so that the environment variables can be used in the engine object url\n",
    "load_dotenv(\"project3.env\")\n",
    "# Initializing variables to hold each environmet varaible\n",
    "username=os.environ.get(\"USERNAME\")\n",
    "password=os.environ.get(\"PASSWORD\")\n",
    "host=os.environ.get(\"HOST\")\n",
    "port=os.environ.get(\"PORT\")\n",
    "database=os.environ.get(\"DATABASE\")\n",
    "google_key = os.environ.get('GOOGLE_API_KEY')\n",
    "yelp_client_id = os.environ.get('YELP_CLIENT_ID')\n",
    "yelp_key = os.environ.get('YELP_API_KEY')\n",
    "sf_data_key = os.environ.get('SFDATAAPPTOKEN')"
   ]
  },
  {
   "cell_type": "code",
   "execution_count": 3,
   "metadata": {},
   "outputs": [],
   "source": [
    "pd.set_option('display.max_rows', 500)\n",
    "pd.set_option('display.max_columns', 500)\n",
    "pd.set_option('display.width', 1000)"
   ]
  },
  {
   "cell_type": "markdown",
   "metadata": {},
   "source": [
    "## Reading in csv's and concatenating them"
   ]
  },
  {
   "cell_type": "code",
   "execution_count": 15,
   "metadata": {},
   "outputs": [],
   "source": [
    "sf_coffee_data = pd.read_csv(\"data/coffee_data/cleaned_sf_coffee_shop_data.csv\")\n",
    "seattle_coffee_data = pd.read_csv(\"data/coffee_data/cleaned_seattle_coffee_shop_data.csv\")\n",
    "la_coffee_data = pd.read_csv(\"data/coffee_data/cleaned_los_angeles_coffee_shop_data.csv\")"
   ]
  },
  {
   "cell_type": "code",
   "execution_count": 16,
   "metadata": {},
   "outputs": [],
   "source": [
    "complete_coffee_data = pd.concat([sf_coffee_data,\n",
    "                                  seattle_coffee_data,\n",
    "                                  la_coffee_data\n",
    "                                 ], ignore_index=True, sort=False)"
   ]
  },
  {
   "cell_type": "code",
   "execution_count": 17,
   "metadata": {},
   "outputs": [],
   "source": [
    "complete_coffee_data = complete_coffee_data.fillna(0)"
   ]
  },
  {
   "cell_type": "code",
   "execution_count": 18,
   "metadata": {},
   "outputs": [],
   "source": [
    "complete_coffee_data = complete_coffee_data[(complete_coffee_data[\"city\"] != \"Emeryville\") \n",
    "                                            & (complete_coffee_data[\"city\"] != \"Sacramento\")\n",
    "                                            & (complete_coffee_data[\"city\"] != \"San+rafael\")\n",
    "                                           ]"
   ]
  },
  {
   "cell_type": "code",
   "execution_count": 19,
   "metadata": {},
   "outputs": [],
   "source": [
    "complete_coffee_data = complete_coffee_data.drop(complete_coffee_data.index[[17, 18, 19, 20]]).reset_index(drop=True)"
   ]
  },
  {
   "cell_type": "code",
   "execution_count": 21,
   "metadata": {},
   "outputs": [],
   "source": [
    "complete_coffee_data.to_csv(\"data/coffee_data/complete_coffee_shop_data.csv\")"
   ]
  },
  {
   "cell_type": "markdown",
   "metadata": {},
   "source": [
    "## Compiling lists of zip codes for each city so that demographic data for them can be gathered"
   ]
  },
  {
   "cell_type": "code",
   "execution_count": 95,
   "metadata": {},
   "outputs": [],
   "source": [
    "sf_zip_codes = complete_coffee_data.loc[complete_coffee_data[\"city\"]==\"San Francisco\", \"zip_code\"]\n",
    "sf_zip_code_list = []\n",
    "for i in sf_zip_codes:\n",
    "    if i not in sf_zip_code_list:\n",
    "        sf_zip_code_list.append(i)\n",
    "    else:\n",
    "        continue"
   ]
  },
  {
   "cell_type": "code",
   "execution_count": 75,
   "metadata": {},
   "outputs": [],
   "source": [
    "seattle_zip_codes = complete_coffee_data.loc[complete_coffee_data[\"city\"]==\"Seattle\", \"zip_code\"]\n",
    "seattle_zip_code_list = []\n",
    "for i in seattle_zip_codes:\n",
    "    if i not in seattle_zip_code_list:\n",
    "        seattle_zip_code_list.append(i)\n",
    "    else:\n",
    "        continue"
   ]
  },
  {
   "cell_type": "code",
   "execution_count": 84,
   "metadata": {},
   "outputs": [],
   "source": [
    "la_zip_codes = complete_coffee_data.loc[complete_coffee_data[\"city\"]==\"Los Angeles\", \"zip_code\"]\n",
    "la_zip_code_list = []\n",
    "for i in la_zip_codes:\n",
    "    if i not in la_zip_code_list:\n",
    "        la_zip_code_list.append(int(i))\n",
    "    else:\n",
    "        continue"
   ]
  },
  {
   "cell_type": "code",
   "execution_count": 82,
   "metadata": {},
   "outputs": [],
   "source": [
    "greater_la_zip_codes = complete_coffee_data.loc[(complete_coffee_data[\"city\"]!=\"San Francisco\") & (complete_coffee_data[\"city\"]!=\"Seattle\"), \"zip_code\"]\n",
    "greater_la_zip_code_list = []\n",
    "for i in greater_la_zip_codes:\n",
    "    if i not in greater_la_zip_code_list:\n",
    "        greater_la_zip_code_list.append(int(i))\n",
    "    else:\n",
    "        continue"
   ]
  }
 ],
 "metadata": {
  "kernelspec": {
   "display_name": "Python 3",
   "language": "python",
   "name": "python3"
  },
  "language_info": {
   "codemirror_mode": {
    "name": "ipython",
    "version": 3
   },
   "file_extension": ".py",
   "mimetype": "text/x-python",
   "name": "python",
   "nbconvert_exporter": "python",
   "pygments_lexer": "ipython3",
   "version": "3.7.3"
  }
 },
 "nbformat": 4,
 "nbformat_minor": 2
}
